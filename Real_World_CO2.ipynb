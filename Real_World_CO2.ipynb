{
 "cells": [
  {
   "cell_type": "markdown",
   "id": "56a7c712",
   "metadata": {},
   "source": [
    "# Project\n",
    "\n",
    "## Overview\n",
    "\n",
    "For this project you must create a data set by simulating a real-world phenomenon of your choosing. In this project you should:\n",
    "\n",
    " - Choose a real-world phenomenon that can be measured and for which you could collect at least one-hundred data points across at least four different variables.\n",
    " - Investigate the types of variables involved, their likely distributions, and their relationships with each other.\n",
    " - Synthesise/simulate a data set as closely matching their properties as possible.\n",
    " - Detail your research and implement the simulation in a Jupyter notebook – the data set itself can simply be displayed in an output cell within the notebook.\n",
    " \n",
    "## Introduction\n",
    "\n",
    "For this project I have choosen to look at the global CO2 emissions, I have taken the data set from owid co2data<sup>1</sup>."
   ]
  },
  {
   "cell_type": "code",
   "execution_count": null,
   "id": "02d7f06f",
   "metadata": {},
   "outputs": [],
   "source": []
  }
 ],
 "metadata": {
  "kernelspec": {
   "display_name": "Python 3 (ipykernel)",
   "language": "python",
   "name": "python3"
  },
  "language_info": {
   "codemirror_mode": {
    "name": "ipython",
    "version": 3
   },
   "file_extension": ".py",
   "mimetype": "text/x-python",
   "name": "python",
   "nbconvert_exporter": "python",
   "pygments_lexer": "ipython3",
   "version": "3.8.5"
  }
 },
 "nbformat": 4,
 "nbformat_minor": 5
}
